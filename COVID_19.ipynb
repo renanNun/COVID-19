{
  "nbformat": 4,
  "nbformat_minor": 0,
  "metadata": {
    "colab": {
      "name": "COVID-19.ipynb",
      "provenance": [],
      "collapsed_sections": [],
      "authorship_tag": "ABX9TyMiaDo3XHv9vS4+eyIYEjhL"
    },
    "kernelspec": {
      "name": "python3",
      "display_name": "Python 3"
    }
  },
  "cells": [
    {
      "cell_type": "markdown",
      "metadata": {
        "id": "WnMqZiAELqms",
        "colab_type": "text"
      },
      "source": [
        "<center>\n",
        "  <h1>Estudo de caso sobre o COVID-19 ao redor do mundo</h1>\n",
        "</center>"
      ]
    },
    {
      "cell_type": "markdown",
      "metadata": {
        "id": "xoOu667VMIns",
        "colab_type": "text"
      },
      "source": [
        "<p>O Novo corona virus que infectou mais de 79.551 pessoas em todo o mundo - até o presente momento em que este notebook está sendo escrito está se espalhando rapidamente e de forma independente em países fora da China.</p>\n",
        "\n",
        "<p>A Inspiração desde notebook é a visualização dos casos ao redor do mundo e a tentativa de criação de um modelo de previsão dos casos</p>"
      ]
    },
    {
      "cell_type": "markdown",
      "metadata": {
        "id": "0zW0I5pvRfAC",
        "colab_type": "text"
      },
      "source": [
        "  <h2>\n",
        "    <b> Load Libraries <b/>\n",
        "  </h2>"
      ]
    },
    {
      "cell_type": "code",
      "metadata": {
        "id": "dxlprvThLiee",
        "colab_type": "code",
        "colab": {}
      },
      "source": [
        "#Esta é uma aplicação desenvolvida com o uso de bibliotecas do python 3, com a ajuda de muitas bibliotecas de visualização instaladas\n",
        "%matplotlib inline\n",
        "import pandas as pd #biblioteca para criação de DataFrames\n",
        "import numpy as np #algebra\n",
        "import seaborn as sns #graficos mais atraentes\n",
        "import matplotlib.pyplot as plt #plotagem\n",
        "import random #seleção de valores aleatórios para plotagem\n",
        "\n"
      ],
      "execution_count": 0,
      "outputs": []
    },
    {
      "cell_type": "markdown",
      "metadata": {
        "id": "RqlMLyxANwAZ",
        "colab_type": "text"
      },
      "source": [
        "  <h2>\n",
        "    <b> Data Import <b/>\n",
        "  </h2>"
      ]
    },
    {
      "cell_type": "code",
      "metadata": {
        "id": "TVlsAjByNuD8",
        "colab_type": "code",
        "colab": {}
      },
      "source": [
        "url_1 = '/kaggle/input/covid19-global-forecasting-week-1/train.csv'\n",
        "url_2 = '/kaggle/input/covid19-global-forecasting-week-1/test.csv'\n",
        "\n",
        "train = pd.read_csv(url_1, error_bad_lines=False)\n",
        "test  = pd.read_csv(url_2, error_bad_lines=False)"
      ],
      "execution_count": 0,
      "outputs": []
    },
    {
      "cell_type": "code",
      "metadata": {
        "id": "ZENM8nLZSrTx",
        "colab_type": "code",
        "colab": {}
      },
      "source": [
        "print('O Dataset train possui: %s linhas e %s colunas' % (train.shape[0],train.shape[1]))\n",
        "print('O Dataset test possui: %s linhas e %s colunas' % (test.shape[0],test.shape[1]))"
      ],
      "execution_count": 0,
      "outputs": []
    }
  ]
}